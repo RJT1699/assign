{
  "metadata": {
    "kernelspec": {
      "name": "python",
      "display_name": "Python (Pyodide)",
      "language": "python"
    },
    "language_info": {
      "codemirror_mode": {
        "name": "python",
        "version": 3
      },
      "file_extension": ".py",
      "mimetype": "text/x-python",
      "name": "python",
      "nbconvert_exporter": "python",
      "pygments_lexer": "ipython3",
      "version": "3.8"
    }
  },
  "nbformat_minor": 5,
  "nbformat": 4,
  "cells": [
    {
      "id": "9140f484-423d-4888-afa7-fb4f7b64bd91",
      "cell_type": "markdown",
      "source": "Data Types and Structures Questions",
      "metadata": {}
    },
    {
      "id": "e6136b06-26b6-4e58-ac56-8362335a113f",
      "cell_type": "code",
      "source": "1. #What are data structures, and why are they important?\n<  #Data structures are fundamental to computer science, defining how data is organized, stored, and processed in a computer system.\n   #They provide a way to efficiently access, manage, and manipulate data, which is crucial for building efficient and effective software applications.\n   #Data structures are essential for performance, readability, and scalability of code, as well as how well it solves the problem at hand. ",
      "metadata": {
        "trusted": true
      },
      "outputs": [],
      "execution_count": null
    },
    {
      "id": "f640b7f4-a90d-452d-9fd7-c57f721e1819",
      "cell_type": "code",
      "source": "2. #Explain the difference between mutable and immutable data types with examplesP?\n<  #In programming, mutable data types allow their values to be modified after creation,\n   #while immutable data types cannot be changed once created",
      "metadata": {
        "trusted": true
      },
      "outputs": [],
      "execution_count": null
    },
    {
      "id": "9750624e-b550-4538-b683-d87e703353e0",
      "cell_type": "code",
      "source": "3. #What are the main differences between lists and tuples in Python?\n< #In programming, mutable data types allow their values to be modified after creation, while immutable data types cannot be changed once created",
      "metadata": {
        "trusted": true
      },
      "outputs": [],
      "execution_count": null
    },
    {
      "id": "64df9696-84a2-4b6d-a4c0-98cf2e5b333f",
      "cell_type": "code",
      "source": "4. #Describe how dictionaries store data?\n<  #Dictionaries are unordered collections of data and are represented with curly brackets { } . Like lists, dictionaries are mutable(changeable) and indexed.\n   #With dictionaries, data is stored in a key:value format",
      "metadata": {
        "trusted": true
      },
      "outputs": [],
      "execution_count": null
    },
    {
      "id": "62d3b6ab-c167-4a23-af52-bb2a4172a55d",
      "cell_type": "code",
      "source": "5. #Why might you use a set instead of a list in Python?\n<  #1.Sets only store unique elements, so any duplicates are removed automatically.\n   #2.in checks are faster in sets than in lists because sets use hash tables.\n   #3Sets support math-like operations such as:\n   #union(), intersection(), difference(), symmetric_difference()\n   #4.Use a set when:\n   #You don’t care about order\n   #You don’t need duplicates\n   #You want to perform set logic\n",
      "metadata": {
        "trusted": true
      },
      "outputs": [],
      "execution_count": null
    },
    {
      "id": "77b1accc-831a-40f8-85ed-ff87b1c907ef",
      "cell_type": "code",
      "source": "6. #What is a string in Python, and how is it different from a list?\n<  #A string in Python is a sequence of characters enclosed in quotes \n   #Strings are immutable, meaning they cannot be changed after they're created.\n   #A list is a sequence of items (which can be of any type: strings, numbers, other lists, etc.) enclosed in square brackets.\n   #Lists are mutable—you can add, remove, or change elements.\n\n\n",
      "metadata": {
        "trusted": true
      },
      "outputs": [],
      "execution_count": null
    },
    {
      "id": "c301700a-6d81-4854-add7-1583e6cc766d",
      "cell_type": "code",
      "source": "7. #How do tuples ensure data integrity in Python?\n<  #Immutability Prevents Accidental Changes\n   #You cannot modify, add, or remove elements from a tuple after it's created.\n   #When you use tuples instead of lists for fixed data, you communicate clearly that the data should not change, \n   #reducing bugs and making your code more predictable.\n\n \n\n\n",
      "metadata": {
        "trusted": true
      },
      "outputs": [],
      "execution_count": null
    },
    {
      "id": "da8a08e3-5d7d-4e47-85f9-33b39447a3eb",
      "cell_type": "code",
      "source": "8. #What is a hash table, and how does it relate to dictionaries in Python?\n<  #A hash table is a data structure that stores key-value pairs and provides fast access to values based on their keys. In Python ,\n  #the dictionary (dict) is implemented using a hash table.",
      "metadata": {
        "trusted": true
      },
      "outputs": [],
      "execution_count": null
    },
    {
      "id": "a3c20c22-d953-433b-a3df-083570f08276",
      "cell_type": "code",
      "source": "9. #Can lists contain different data types in Python?\n<  #Yes, lists can contain different data types in Python.\n\n",
      "metadata": {
        "trusted": true
      },
      "outputs": [],
      "execution_count": null
    },
    {
      "id": "87a32ee5-3028-4f93-a967-3012e956e6d6",
      "cell_type": "code",
      "source": "10. #Explain why strings are immutable in Python?\n<  #In Python, strings are immutable, meaning once a string is created, it cannot be changed. \n   #Any operation that appears to modify a string actually creates a new string.",
      "metadata": {
        "trusted": true
      },
      "outputs": [],
      "execution_count": null
    },
    {
      "id": "30e8cf69-658d-44b0-9cd6-7487b6331214",
      "cell_type": "code",
      "source": "11.# What advantages do dictionaries offer over lists for certain tasks?\n<  # Dictionaries offer several key advantages over lists in Python, especially for tasks involving fast lookups, label-based access, and structured data",
      "metadata": {
        "trusted": true
      },
      "outputs": [],
      "execution_count": null
    },
    {
      "id": "fdf91b82-c7d5-4255-b132-0f2840ac1c87",
      "cell_type": "code",
      "source": "12. #Describe a scenario where using a tuple would be preferable over a list?\n<  #Use a list if you need a mutable collection of items where you may need to add, remove, or change elements.\n  #Lists are more flexible and have more built-in methods, making them ideal for dynamic collections.\n  #Use a tuple if you need an immutable collection where the elements won't change after creation",
      "metadata": {
        "trusted": true
      },
      "outputs": [],
      "execution_count": null
    },
    {
      "id": "be76b6bf-9063-4733-a315-d47bb4b0bac4",
      "cell_type": "code",
      "source": "13. #How do sets handle duplicate values in Python?\n#Sets in Python are designed to store only unique elements. \n#When an attempt is made to add a duplicate value to a set, Python automatically discards the duplicate, ensuring that the set maintains its property of containing only distinct elements. \n#This behavior is fundamental to the nature of sets as unordered collections of unique items.",
      "metadata": {
        "trusted": true
      },
      "outputs": [],
      "execution_count": null
    },
    {
      "id": "949cf9d2-4851-49de-b65b-b0ca3f19cc51",
      "cell_type": "code",
      "source": "14. #How does the “in” keyword work differently for lists and dictionaries?\n< #When you use in with a list, Python checks if the element exists anywhere in the list\n  #It iterates through the list and compares each item to the value you're looking for.\n  #When you use in with a dictionary, Python checks for the keys, not the values\n  #Python looks for the key in the dictionary’s set of keys.",
      "metadata": {
        "trusted": true
      },
      "outputs": [],
      "execution_count": null
    },
    {
      "id": "5125f3c6-7141-4f00-aa25-4328075ce058",
      "cell_type": "code",
      "source": "15.#Can you modify the elements of a tuple? Explain why or why not?\n<   #No, you cannot modify the elements of a tuple in Python. Here's why:\n   #because tuple are immutable. its elements cannot be changed, added to, or removed. eg\nmy_tuple = (1,2,3)\nmy_tuple[0] = 100\n\n",
      "metadata": {
        "trusted": true
      },
      "outputs": [
        {
          "ename": "<class 'TypeError'>",
          "evalue": "'tuple' object does not support item assignment",
          "traceback": [
            "\u001b[0;31m---------------------------------------------------------------------------\u001b[0m",
            "\u001b[0;31mTypeError\u001b[0m                                 Traceback (most recent call last)",
            "Cell \u001b[0;32mIn[3], line 5\u001b[0m\n\u001b[1;32m      2\u001b[0m    \u001b[38;5;66;03m#No, you cannot modify the elements of a tuple in Python. Here's why:\u001b[39;00m\n\u001b[1;32m      3\u001b[0m    \u001b[38;5;66;03m#because tuple are immutable. its elements cannot be changed, added to, or removed. eg\u001b[39;00m\n\u001b[1;32m      4\u001b[0m my_tuple \u001b[38;5;241m=\u001b[39m (\u001b[38;5;241m1\u001b[39m,\u001b[38;5;241m2\u001b[39m,\u001b[38;5;241m3\u001b[39m)\n\u001b[0;32m----> 5\u001b[0m \u001b[43mmy_tuple\u001b[49m\u001b[43m[\u001b[49m\u001b[38;5;241;43m0\u001b[39;49m\u001b[43m]\u001b[49m \u001b[38;5;241m=\u001b[39m \u001b[38;5;241m100\u001b[39m\n",
            "\u001b[0;31mTypeError\u001b[0m: 'tuple' object does not support item assignment"
          ],
          "output_type": "error"
        }
      ],
      "execution_count": 3
    },
    {
      "id": "72a0cfcc-eaf5-42b5-8bb7-1736fb4edb39",
      "cell_type": "code",
      "source": "16. #What is a nested dictionary, and give an example of its use case?\n<    #A nested dictionary in Python is a dictionary where values themselves are dictionaries. \n    #This allows for a multi-level data structure, useful for organizing complex, hierarchical data.\n     nested_dict = {\n    'user1': {'name': 'Alice', 'age': 30},\n    'user2': {'name': 'Bob', 'age': 25}\n}\n",
      "metadata": {
        "trusted": true
      },
      "outputs": [],
      "execution_count": null
    },
    {
      "id": "c3d03707-94f1-46e0-b6a8-875a78dcec0e",
      "cell_type": "code",
      "source": "17.  #Describe the time complexity of accessing elements in a dictionary?\n<    #Accessing an element in a dictionary using its key typically has a time complexity of O(1) on average, \n    #meaning it takes constant time, regardless of the dictionary's size. However, in the worst-case scenario, it can degrade to O(n),\n    #where n is the number of key-value pairs, if there are many hash collisions. ",
      "metadata": {
        "trusted": true
      },
      "outputs": [],
      "execution_count": null
    },
    {
      "id": "9fa4acc2-ed9f-44fd-8145-db21bf35adc1",
      "cell_type": "code",
      "source": "18. #  In what situations are lists preferred over dictionaries?\n<   #Lists are often preferred over dictionaries when maintaining the order of elements is crucial,\n   #or when performing sequential operations like appending or extending.\n   #Lists are also useful for storing collections of items where each element has a positional index. Dictionaries,\n   #on the other hand, are better suited for scenarios requiring fast lookups and key-value associations, where the order of elements is not important. ",
      "metadata": {
        "trusted": true
      },
      "outputs": [],
      "execution_count": null
    },
    {
      "id": "6856c3be-def3-4379-89ae-6df93460d160",
      "cell_type": "code",
      "source": "19. #Why are dictionaries considered unordered, and how does that affect data retrieval?\n<   #dictionary is termed as an unordered collection of object\n   #because the printed order of elements is not same as the order in which the elements are stored.",
      "metadata": {
        "trusted": true
      },
      "outputs": [],
      "execution_count": null
    },
    {
      "id": "f60ae13b-66dd-402c-9d51-122d88f6e49a",
      "cell_type": "code",
      "source": "20. #Explain the difference between a list and a dictionary in terms of data retrieval.\n<  #In terms of data retrieval, a dictionary offers significantly faster lookup of values based on unique keys compared to a list,\n  #which relies on numerical indices. Dictionaries, using a hash table, \n  #can find values associated with a key in an average of O(1) (constant) time,\n  #while lists, requiring sequential searching, have an average time complexity of O(n) (linear). ",
      "metadata": {
        "trusted": true
      },
      "outputs": [],
      "execution_count": null
    },
    {
      "id": "44a90fb5-06a6-4bee-9ef4-3c2c521fb94c",
      "cell_type": "code",
      "source": "",
      "metadata": {
        "trusted": true
      },
      "outputs": [],
      "execution_count": null
    },
    {
      "id": "1b214f45-632a-4f5c-89be-7ca12c174768",
      "cell_type": "markdown",
      "source": "Practical Questions",
      "metadata": {}
    },
    {
      "id": "4901cb00-c57f-49bf-8529-e71319f1662c",
      "cell_type": "code",
      "source": "1.# Write a code to create a string with your name and print it\nname = \"Rajat mishra\"\nprint(name)     \n\n\n",
      "metadata": {
        "trusted": true
      },
      "outputs": [
        {
          "name": "stdout",
          "output_type": "stream",
          "text": "Rajat mishra\n"
        }
      ],
      "execution_count": 5
    },
    {
      "id": "f7004dc5-39e8-45ab-ac60-10d7c5db2a92",
      "cell_type": "code",
      "source": "2. #Write a code to find the length of the string \"Hello World\"\nstring = \"pwskill\"\nlen(string)",
      "metadata": {
        "trusted": true
      },
      "outputs": [
        {
          "execution_count": 7,
          "output_type": "execute_result",
          "data": {
            "text/plain": "7"
          },
          "metadata": {}
        }
      ],
      "execution_count": 7
    },
    {
      "id": "b6e91c07-dece-42c0-8179-74c72d373b67",
      "cell_type": "code",
      "source": "3. #Write a code to slice the first 3 characters from the string \"Python Programming\"\nstring1 = \"python programing\"\nstring1[3:]\n",
      "metadata": {
        "trusted": true
      },
      "outputs": [
        {
          "execution_count": 21,
          "output_type": "execute_result",
          "data": {
            "text/plain": "'hon programing'"
          },
          "metadata": {}
        }
      ],
      "execution_count": 21
    },
    {
      "id": "e11d79a7-0a02-4a25-aab8-ba670211c169",
      "cell_type": "code",
      "source": "4.#Write a code to convert the string \"hello\" to uppercase\nstring2 = \"hello\"\nstring2.upper()",
      "metadata": {
        "trusted": true
      },
      "outputs": [
        {
          "execution_count": 23,
          "output_type": "execute_result",
          "data": {
            "text/plain": "'HELLO'"
          },
          "metadata": {}
        }
      ],
      "execution_count": 23
    },
    {
      "id": "bb5ba74e-b77f-4755-b8b0-3bff0420e535",
      "cell_type": "code",
      "source": "5.# Write a code to replace the word \"apple\" with \"orange\" in the string \"I like apple\"\nstr1 = \"i like apple\"\nstr1.replace(\"apple\",\"orange\")",
      "metadata": {
        "trusted": true
      },
      "outputs": [
        {
          "execution_count": 26,
          "output_type": "execute_result",
          "data": {
            "text/plain": "'i like orange'"
          },
          "metadata": {}
        }
      ],
      "execution_count": 26
    },
    {
      "id": "1ef160ae-5700-4495-822c-0503a619d013",
      "cell_type": "code",
      "source": "6.#Write a code to create a list with numbers 1 to 5 and print it\nnumber = [1,2,3,4,5]\nprint(number)",
      "metadata": {
        "trusted": true
      },
      "outputs": [
        {
          "name": "stdout",
          "output_type": "stream",
          "text": "[1, 2, 3, 4, 5]\n"
        }
      ],
      "execution_count": 5
    },
    {
      "id": "b44741bd-4761-43ae-9ef0-3338c97fe4d5",
      "cell_type": "code",
      "source": "7.#Write a code to append the number 10 to the list [1, 2, 3, 4]\nlis = [1,2,3,4,]\nlis.append(10)\nlis",
      "metadata": {
        "trusted": true
      },
      "outputs": [
        {
          "execution_count": 3,
          "output_type": "execute_result",
          "data": {
            "text/plain": "[1, 2, 3, 4, 10]"
          },
          "metadata": {}
        }
      ],
      "execution_count": 3
    },
    {
      "id": "8225f27f-de48-4b6b-867a-fd116acf72c9",
      "cell_type": "code",
      "source": "8.#Write a code to remove the number 3 from the list [1, 2, 3, 4, 5]\nlist = [1,2,3,4,5]\nlist.remove(3)\nlist",
      "metadata": {
        "trusted": true
      },
      "outputs": [
        {
          "execution_count": 6,
          "output_type": "execute_result",
          "data": {
            "text/plain": "[1, 2, 4, 5]"
          },
          "metadata": {}
        }
      ],
      "execution_count": 6
    },
    {
      "id": "3196b794-acf2-4dc5-8e38-734a5a373583",
      "cell_type": "code",
      "source": "9.#Write a code to access the second element in the list ['a', 'b', 'c', 'd']\nlist = ['a','b','c','d']\nlist[2]",
      "metadata": {
        "trusted": true
      },
      "outputs": [
        {
          "execution_count": 10,
          "output_type": "execute_result",
          "data": {
            "text/plain": "'c'"
          },
          "metadata": {}
        }
      ],
      "execution_count": 10
    },
    {
      "id": "a4418bfe-e9dd-417a-9bdf-ec05bce58863",
      "cell_type": "code",
      "source": "10.#Write a code to reverse the list [10, 20, 30, 40, 50].\nlist = [10,20,30,40,50]\nlist[::-1]",
      "metadata": {
        "trusted": true
      },
      "outputs": [
        {
          "execution_count": 11,
          "output_type": "execute_result",
          "data": {
            "text/plain": "[50, 40, 30, 20, 10]"
          },
          "metadata": {}
        }
      ],
      "execution_count": 11
    },
    {
      "id": "016bcac2-87f0-4038-a1f7-fd0a8b2cc6b7",
      "cell_type": "code",
      "source": "11.#Write a code to create a tuple with the elements 100, 200, 300 and print it.\ntuple = (100,200,300)\nprint(tuple)",
      "metadata": {
        "trusted": true
      },
      "outputs": [
        {
          "name": "stdout",
          "output_type": "stream",
          "text": "(100, 200, 300)\n"
        }
      ],
      "execution_count": 12
    },
    {
      "id": "73a2119e-9858-420a-8d73-7193a21c0875",
      "cell_type": "code",
      "source": "12. #Write a code to access the second-to-last element of the tuple ('red', 'green', 'blue', 'yellow').\ntuple = (\"red\", \"green\", \"blue\" ,\"yellow\")\ntuple[2]",
      "metadata": {
        "trusted": true
      },
      "outputs": [
        {
          "execution_count": 13,
          "output_type": "execute_result",
          "data": {
            "text/plain": "'blue'"
          },
          "metadata": {}
        }
      ],
      "execution_count": 13
    },
    {
      "id": "ec09e3bc-01b0-4d8b-b618-235549f9d34d",
      "cell_type": "code",
      "source": "13.#Write a code to find the minimum number in the tuple (10, 20, 5, 15).\ntuple = (10,20,5,15)\nmin(tuple)",
      "metadata": {
        "trusted": true
      },
      "outputs": [
        {
          "execution_count": 15,
          "output_type": "execute_result",
          "data": {
            "text/plain": "5"
          },
          "metadata": {}
        }
      ],
      "execution_count": 15
    },
    {
      "id": "9bbec206-d5d3-4b1f-8c63-a1677b6e5d0f",
      "cell_type": "code",
      "source": "14. #Write a code to find the index of the element \"cat\" in the tuple ('dog', 'cat', 'rabbit').\ntuple = (\"dog\", \"cat\", \"rabbit\")\ntuple.index(\"cat\")",
      "metadata": {
        "trusted": true
      },
      "outputs": [
        {
          "execution_count": 16,
          "output_type": "execute_result",
          "data": {
            "text/plain": "1"
          },
          "metadata": {}
        }
      ],
      "execution_count": 16
    },
    {
      "id": "68246fab-064d-4f80-8b2f-320edfb5ade4",
      "cell_type": "code",
      "source": "15.#Write a code to create a tuple containing three different fruits and check if \"kiwi\" is in it.\nfruits = (\"apple\", \"banana\", \"cherry\")\nif \"kiwi\" in fruits:\n    print(\"Kiwi is in the tuple.\")\nelse:\n    print(\"Kiwi is not in the tuple.\")",
      "metadata": {
        "trusted": true
      },
      "outputs": [
        {
          "name": "stdout",
          "output_type": "stream",
          "text": "Kiwi is not in the tuple.\n"
        }
      ],
      "execution_count": 17
    },
    {
      "id": "a4bedb24-2bf8-4b7f-ac1c-3c65cccda4a5",
      "cell_type": "code",
      "source": "16. #Write a code to create a set with the elements 'a', 'b', 'c' and print it.\nmy_set = {\"a\",\"b\",\"c\"}\nprint(my_set)",
      "metadata": {
        "trusted": true
      },
      "outputs": [
        {
          "name": "stdout",
          "output_type": "stream",
          "text": "{'b', 'c', 'a'}\n"
        }
      ],
      "execution_count": 18
    },
    {
      "id": "31035300-6d70-4563-bb8a-cb02b91a88d9",
      "cell_type": "code",
      "source": "17. #Write a code to clear all elements from the set {1, 2, 3, 4, 5}.\nset = {1,2,3,4,5}\nset.clear()\nset",
      "metadata": {
        "trusted": true
      },
      "outputs": [
        {
          "execution_count": 27,
          "output_type": "execute_result",
          "data": {
            "text/plain": "set()"
          },
          "metadata": {}
        }
      ],
      "execution_count": 27
    },
    {
      "id": "d1085891-1a5e-4ca6-946b-8311c6459b53",
      "cell_type": "code",
      "source": "18.# Write a code to remove the element 4 from the set {1, 2, 3, 4}.\nset = {1,2,3,4,}\nset.remove(4)\nset",
      "metadata": {
        "trusted": true,
        "scrolled": true
      },
      "outputs": [
        {
          "execution_count": 28,
          "output_type": "execute_result",
          "data": {
            "text/plain": "{1, 2, 3}"
          },
          "metadata": {}
        }
      ],
      "execution_count": 28
    },
    {
      "id": "190a2ab4-e326-403f-bea7-9e129afcea87",
      "cell_type": "code",
      "source": "19. #Write a code to find the union of two sets {1, 2, 3} and {3, 4, 5}.\nset1 = {1, 2, 3}\nset2 = {3, 4, 5}\nunion_set = set1.union(set2)\nprint(union_set)",
      "metadata": {
        "trusted": true
      },
      "outputs": [
        {
          "name": "stdout",
          "output_type": "stream",
          "text": "{1, 2, 3, 4, 5}\n"
        }
      ],
      "execution_count": 29
    },
    {
      "id": "0d45fd2b-6958-4574-8d6b-54ed85994e26",
      "cell_type": "code",
      "source": "20. #Write a code to find the intersection of two sets {1, 2, 3} and {2, 3, 4}\nset1 = {1, 2, 3}\nset2 = {2, 3, 4}\nintersection_set = set1.intersection(set2)\nprint(intersection_set)",
      "metadata": {
        "trusted": true
      },
      "outputs": [
        {
          "name": "stdout",
          "output_type": "stream",
          "text": "{2, 3}\n"
        }
      ],
      "execution_count": 30
    },
    {
      "id": "f8494984-4940-4200-85db-a59352ccb271",
      "cell_type": "code",
      "source": "21. #Write a code to create a dictionary with the keys \"name\", \"age\", and \"city\", and print it.\nperson = {\"name\": \"Alice\",\"age\": 30,  \"city\": \"New York\"}\nprint(person)    ",
      "metadata": {
        "trusted": true
      },
      "outputs": [
        {
          "name": "stdout",
          "output_type": "stream",
          "text": "{'name': 'Alice', 'age': 30, 'city': 'New York'}\n"
        }
      ],
      "execution_count": 31
    },
    {
      "id": "caac7772-f7a2-4ea7-ba20-f2e7ded22c17",
      "cell_type": "code",
      "source": "22. #Write a code to add a new key-value pair \"country\": \"USA\" to the dictionary {'name': 'John', 'age': 25}.\nperson = {'name': 'John', 'age': 25}\nperson['country'] = 'USA'\nprint(person)",
      "metadata": {
        "trusted": true
      },
      "outputs": [
        {
          "name": "stdout",
          "output_type": "stream",
          "text": "{'name': 'John', 'age': 25, 'country': 'USA'}\n"
        }
      ],
      "execution_count": 32
    },
    {
      "id": "4b36dc69-f9b1-4a66-93f8-051ac8de1521",
      "cell_type": "code",
      "source": "23. #Write a code to access the value associated with the key \"name\" in the dictionary {'name': 'Alice', 'age': 30}.\nperson = {'name': 'Alice', 'age': 30}\nname_value = person['name']\nprint(name_value)",
      "metadata": {
        "trusted": true
      },
      "outputs": [
        {
          "name": "stdout",
          "output_type": "stream",
          "text": "Alice\n"
        }
      ],
      "execution_count": 33
    },
    {
      "id": "38092b45-a2ce-4ebe-8c1a-bf07f239fbe8",
      "cell_type": "code",
      "source": "24. #Write a code to remove the key \"age\" from the dictionary {'name': 'Bob', 'age': 22, 'city': 'New York'}.\nperson = {'name': 'Bob', 'age': 22, 'city': 'New York'}\nperson.pop('age')\nprint(person)",
      "metadata": {
        "trusted": true
      },
      "outputs": [
        {
          "name": "stdout",
          "output_type": "stream",
          "text": "{'name': 'Bob', 'city': 'New York'}\n"
        }
      ],
      "execution_count": 34
    },
    {
      "id": "dc01e78a-e5d6-46c5-aa6f-1b221c6a447e",
      "cell_type": "code",
      "source": "25. #Write a code to check if the key \"city\" exists in the dictionary {'name': 'Alice', 'city': 'Paris'}.\nperson = {'name': 'Alice', 'city': 'Paris'}\nif 'city' in person:\n    print(\"The key 'city' exists in the dictionary.\")\nelse:\n    print(\"The key 'city' does not exist in the dictionary.\")",
      "metadata": {
        "trusted": true
      },
      "outputs": [
        {
          "name": "stdout",
          "output_type": "stream",
          "text": "The key 'city' exists in the dictionary.\n"
        }
      ],
      "execution_count": 35
    },
    {
      "id": "f69d93c8-4def-4dd7-9a6f-ea06e68b9561",
      "cell_type": "code",
      "source": "26. #Write a code to create a list, a tuple, and a dictionary, and print them all.\nmy_list = [1, 2, 3, 4, 5]\n# Create a tuple\nmy_tuple = ('apple', 'banana', 'cherry')\n# Create a dictionary\nmy_dict = {'name': 'Alice', 'age': 30, 'city': 'New York'}\n# Print all the data structures\nprint(\"List:\", my_list)\nprint(\"Tuple:\", my_tuple)\nprint(\"Dictionary:\", my_dict)",
      "metadata": {
        "trusted": true
      },
      "outputs": [
        {
          "name": "stdout",
          "output_type": "stream",
          "text": "List: [1, 2, 3, 4, 5]\nTuple: ('apple', 'banana', 'cherry')\nDictionary: {'name': 'Alice', 'age': 30, 'city': 'New York'}\n"
        }
      ],
      "execution_count": 36
    },
    {
      "id": "38b7876a-f79f-4cc3-8433-e2560e8ac56f",
      "cell_type": "code",
      "source": "27. #Write a code to create a list of 5 random numbers between 1 and 100, sort it in ascending order, and print the result.(replaced)\nimport random\n# Create a list of 5 random numbers between 1 and 100\nrandom_numbers = [random.randint(1, 100) for _ in range(5)]\n# Sort the list in ascending order\nrandom_numbers.sort()\n# Print the sorted list\nprint(\"Sorted list of random numbers:\", random_numbers)",
      "metadata": {
        "trusted": true
      },
      "outputs": [
        {
          "name": "stdout",
          "output_type": "stream",
          "text": "Sorted list of random numbers: [17, 43, 47, 58, 94]\n"
        }
      ],
      "execution_count": 37
    },
    {
      "id": "3781808e-d215-4566-928e-b0f4062f55dc",
      "cell_type": "code",
      "source": "28. #Write a code to create a list with strings and print the element at the third index.\nmy_list = [\"apple\", \"banana\", \"cherry\", \"date\", \"elderberry\"]\nprint(\"Element at index 3:\", my_list[3])",
      "metadata": {
        "trusted": true
      },
      "outputs": [
        {
          "name": "stdout",
          "output_type": "stream",
          "text": "Element at index 3: date\n"
        }
      ],
      "execution_count": 38
    },
    {
      "id": "1126892a-cf84-48e7-9c81-87a91eb107e8",
      "cell_type": "code",
      "source": "29. #Write a code to combine two dictionaries into one and print the result.\ndict1 = {'name': 'Alice', 'age': 30}\ndict2 = {'city': 'New York', 'job': 'Engineer'}\n# Combine the dictionaries\ncombined_dict = {**dict1, **dict2}\n# Print the result\nprint(\"Combined dictionary:\", combined_dict)",
      "metadata": {
        "trusted": true
      },
      "outputs": [
        {
          "name": "stdout",
          "output_type": "stream",
          "text": "Combined dictionary: {'name': 'Alice', 'age': 30, 'city': 'New York', 'job': 'Engineer'}\n"
        }
      ],
      "execution_count": 39
    },
    {
      "id": "a29c8d76-827d-4444-9e04-bb32e4277c42",
      "cell_type": "code",
      "source": "30.#Write a code to convert a list of strings into a set.\n# Create a list of strings\nmy_list = [\"apple\", \"banana\", \"cherry\", \"apple\", \"banana\"]\n# Convert the list into a set\nmy_set = set(my_list)\n# Print the resulting set\nprint(\"Converted set:\", my_set)",
      "metadata": {
        "trusted": true
      },
      "outputs": [],
      "execution_count": null
    },
    {
      "id": "02db263f-ea60-48dd-9b81-dfba11bb11fc",
      "cell_type": "code",
      "source": "",
      "metadata": {
        "trusted": true
      },
      "outputs": [],
      "execution_count": null
    }
  ]
}